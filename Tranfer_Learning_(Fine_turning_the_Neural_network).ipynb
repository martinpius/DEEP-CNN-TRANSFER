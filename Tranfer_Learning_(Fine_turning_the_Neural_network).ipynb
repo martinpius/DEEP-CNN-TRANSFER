{
  "nbformat": 4,
  "nbformat_minor": 0,
  "metadata": {
    "colab": {
      "name": "Tranfer-Learning (Fine-turning the Neural network)",
      "provenance": [],
      "authorship_tag": "ABX9TyOemEf2yLSaiZLjmnx86Mxx",
      "include_colab_link": true
    },
    "kernelspec": {
      "name": "python3",
      "display_name": "Python 3"
    },
    "language_info": {
      "name": "python"
    },
    "accelerator": "GPU",
    "widgets": {
      "application/vnd.jupyter.widget-state+json": {
        "4adf9d1bf1db4fa997d7d180d42715d8": {
          "model_module": "@jupyter-widgets/controls",
          "model_name": "HBoxModel",
          "state": {
            "_view_name": "HBoxView",
            "_dom_classes": [],
            "_model_name": "HBoxModel",
            "_view_module": "@jupyter-widgets/controls",
            "_model_module_version": "1.5.0",
            "_view_count": null,
            "_view_module_version": "1.5.0",
            "box_style": "",
            "layout": "IPY_MODEL_6936394299624c219259996555a18852",
            "_model_module": "@jupyter-widgets/controls",
            "children": [
              "IPY_MODEL_ffdeb48bae114014ba4326b06d250862",
              "IPY_MODEL_7e49a2dec3fd49b4ad30a87bf0ce6c23"
            ]
          }
        },
        "6936394299624c219259996555a18852": {
          "model_module": "@jupyter-widgets/base",
          "model_name": "LayoutModel",
          "state": {
            "_view_name": "LayoutView",
            "grid_template_rows": null,
            "right": null,
            "justify_content": null,
            "_view_module": "@jupyter-widgets/base",
            "overflow": null,
            "_model_module_version": "1.2.0",
            "_view_count": null,
            "flex_flow": null,
            "width": null,
            "min_width": null,
            "border": null,
            "align_items": null,
            "bottom": null,
            "_model_module": "@jupyter-widgets/base",
            "top": null,
            "grid_column": null,
            "overflow_y": null,
            "overflow_x": null,
            "grid_auto_flow": null,
            "grid_area": null,
            "grid_template_columns": null,
            "flex": null,
            "_model_name": "LayoutModel",
            "justify_items": null,
            "grid_row": null,
            "max_height": null,
            "align_content": null,
            "visibility": null,
            "align_self": null,
            "height": null,
            "min_height": null,
            "padding": null,
            "grid_auto_rows": null,
            "grid_gap": null,
            "max_width": null,
            "order": null,
            "_view_module_version": "1.2.0",
            "grid_template_areas": null,
            "object_position": null,
            "object_fit": null,
            "grid_auto_columns": null,
            "margin": null,
            "display": null,
            "left": null
          }
        },
        "ffdeb48bae114014ba4326b06d250862": {
          "model_module": "@jupyter-widgets/controls",
          "model_name": "FloatProgressModel",
          "state": {
            "_view_name": "ProgressView",
            "style": "IPY_MODEL_8cfddd3e5b144ca4b618d8190f7b9788",
            "_dom_classes": [],
            "description": "",
            "_model_name": "FloatProgressModel",
            "bar_style": "success",
            "max": 170498071,
            "_view_module": "@jupyter-widgets/controls",
            "_model_module_version": "1.5.0",
            "value": 170498071,
            "_view_count": null,
            "_view_module_version": "1.5.0",
            "orientation": "horizontal",
            "min": 0,
            "description_tooltip": null,
            "_model_module": "@jupyter-widgets/controls",
            "layout": "IPY_MODEL_5e9c5e05b6324b4c8aed5733d7d610b2"
          }
        },
        "7e49a2dec3fd49b4ad30a87bf0ce6c23": {
          "model_module": "@jupyter-widgets/controls",
          "model_name": "HTMLModel",
          "state": {
            "_view_name": "HTMLView",
            "style": "IPY_MODEL_80f705b43b0848be9d4f713f706db87d",
            "_dom_classes": [],
            "description": "",
            "_model_name": "HTMLModel",
            "placeholder": "​",
            "_view_module": "@jupyter-widgets/controls",
            "_model_module_version": "1.5.0",
            "value": " 170499072/? [00:37&lt;00:00, 4519857.14it/s]",
            "_view_count": null,
            "_view_module_version": "1.5.0",
            "description_tooltip": null,
            "_model_module": "@jupyter-widgets/controls",
            "layout": "IPY_MODEL_639fa5b3f92d4a53a662e8a7d9fdee8a"
          }
        },
        "8cfddd3e5b144ca4b618d8190f7b9788": {
          "model_module": "@jupyter-widgets/controls",
          "model_name": "ProgressStyleModel",
          "state": {
            "_view_name": "StyleView",
            "_model_name": "ProgressStyleModel",
            "description_width": "initial",
            "_view_module": "@jupyter-widgets/base",
            "_model_module_version": "1.5.0",
            "_view_count": null,
            "_view_module_version": "1.2.0",
            "bar_color": null,
            "_model_module": "@jupyter-widgets/controls"
          }
        },
        "5e9c5e05b6324b4c8aed5733d7d610b2": {
          "model_module": "@jupyter-widgets/base",
          "model_name": "LayoutModel",
          "state": {
            "_view_name": "LayoutView",
            "grid_template_rows": null,
            "right": null,
            "justify_content": null,
            "_view_module": "@jupyter-widgets/base",
            "overflow": null,
            "_model_module_version": "1.2.0",
            "_view_count": null,
            "flex_flow": null,
            "width": null,
            "min_width": null,
            "border": null,
            "align_items": null,
            "bottom": null,
            "_model_module": "@jupyter-widgets/base",
            "top": null,
            "grid_column": null,
            "overflow_y": null,
            "overflow_x": null,
            "grid_auto_flow": null,
            "grid_area": null,
            "grid_template_columns": null,
            "flex": null,
            "_model_name": "LayoutModel",
            "justify_items": null,
            "grid_row": null,
            "max_height": null,
            "align_content": null,
            "visibility": null,
            "align_self": null,
            "height": null,
            "min_height": null,
            "padding": null,
            "grid_auto_rows": null,
            "grid_gap": null,
            "max_width": null,
            "order": null,
            "_view_module_version": "1.2.0",
            "grid_template_areas": null,
            "object_position": null,
            "object_fit": null,
            "grid_auto_columns": null,
            "margin": null,
            "display": null,
            "left": null
          }
        },
        "80f705b43b0848be9d4f713f706db87d": {
          "model_module": "@jupyter-widgets/controls",
          "model_name": "DescriptionStyleModel",
          "state": {
            "_view_name": "StyleView",
            "_model_name": "DescriptionStyleModel",
            "description_width": "",
            "_view_module": "@jupyter-widgets/base",
            "_model_module_version": "1.5.0",
            "_view_count": null,
            "_view_module_version": "1.2.0",
            "_model_module": "@jupyter-widgets/controls"
          }
        },
        "639fa5b3f92d4a53a662e8a7d9fdee8a": {
          "model_module": "@jupyter-widgets/base",
          "model_name": "LayoutModel",
          "state": {
            "_view_name": "LayoutView",
            "grid_template_rows": null,
            "right": null,
            "justify_content": null,
            "_view_module": "@jupyter-widgets/base",
            "overflow": null,
            "_model_module_version": "1.2.0",
            "_view_count": null,
            "flex_flow": null,
            "width": null,
            "min_width": null,
            "border": null,
            "align_items": null,
            "bottom": null,
            "_model_module": "@jupyter-widgets/base",
            "top": null,
            "grid_column": null,
            "overflow_y": null,
            "overflow_x": null,
            "grid_auto_flow": null,
            "grid_area": null,
            "grid_template_columns": null,
            "flex": null,
            "_model_name": "LayoutModel",
            "justify_items": null,
            "grid_row": null,
            "max_height": null,
            "align_content": null,
            "visibility": null,
            "align_self": null,
            "height": null,
            "min_height": null,
            "padding": null,
            "grid_auto_rows": null,
            "grid_gap": null,
            "max_width": null,
            "order": null,
            "_view_module_version": "1.2.0",
            "grid_template_areas": null,
            "object_position": null,
            "object_fit": null,
            "grid_auto_columns": null,
            "margin": null,
            "display": null,
            "left": null
          }
        },
        "4500f27c15414fce801b4ea3b4cc4836": {
          "model_module": "@jupyter-widgets/controls",
          "model_name": "HBoxModel",
          "state": {
            "_view_name": "HBoxView",
            "_dom_classes": [],
            "_model_name": "HBoxModel",
            "_view_module": "@jupyter-widgets/controls",
            "_model_module_version": "1.5.0",
            "_view_count": null,
            "_view_module_version": "1.5.0",
            "box_style": "",
            "layout": "IPY_MODEL_ebdf4490f9d44ff999229d2a31c47d17",
            "_model_module": "@jupyter-widgets/controls",
            "children": [
              "IPY_MODEL_294879ef4e024f609334864c05411baa",
              "IPY_MODEL_0cd16aa8c5534b589a0eb7485699bfed"
            ]
          }
        },
        "ebdf4490f9d44ff999229d2a31c47d17": {
          "model_module": "@jupyter-widgets/base",
          "model_name": "LayoutModel",
          "state": {
            "_view_name": "LayoutView",
            "grid_template_rows": null,
            "right": null,
            "justify_content": null,
            "_view_module": "@jupyter-widgets/base",
            "overflow": null,
            "_model_module_version": "1.2.0",
            "_view_count": null,
            "flex_flow": null,
            "width": null,
            "min_width": null,
            "border": null,
            "align_items": null,
            "bottom": null,
            "_model_module": "@jupyter-widgets/base",
            "top": null,
            "grid_column": null,
            "overflow_y": null,
            "overflow_x": null,
            "grid_auto_flow": null,
            "grid_area": null,
            "grid_template_columns": null,
            "flex": null,
            "_model_name": "LayoutModel",
            "justify_items": null,
            "grid_row": null,
            "max_height": null,
            "align_content": null,
            "visibility": null,
            "align_self": null,
            "height": null,
            "min_height": null,
            "padding": null,
            "grid_auto_rows": null,
            "grid_gap": null,
            "max_width": null,
            "order": null,
            "_view_module_version": "1.2.0",
            "grid_template_areas": null,
            "object_position": null,
            "object_fit": null,
            "grid_auto_columns": null,
            "margin": null,
            "display": null,
            "left": null
          }
        },
        "294879ef4e024f609334864c05411baa": {
          "model_module": "@jupyter-widgets/controls",
          "model_name": "FloatProgressModel",
          "state": {
            "_view_name": "ProgressView",
            "style": "IPY_MODEL_488ac32edb0a4db2b5e2477872e421eb",
            "_dom_classes": [],
            "description": "",
            "_model_name": "FloatProgressModel",
            "bar_style": "success",
            "max": 170498071,
            "_view_module": "@jupyter-widgets/controls",
            "_model_module_version": "1.5.0",
            "value": 170498071,
            "_view_count": null,
            "_view_module_version": "1.5.0",
            "orientation": "horizontal",
            "min": 0,
            "description_tooltip": null,
            "_model_module": "@jupyter-widgets/controls",
            "layout": "IPY_MODEL_b901de2cdee442e89d0708703607eda7"
          }
        },
        "0cd16aa8c5534b589a0eb7485699bfed": {
          "model_module": "@jupyter-widgets/controls",
          "model_name": "HTMLModel",
          "state": {
            "_view_name": "HTMLView",
            "style": "IPY_MODEL_bf48d05c1611447f8beaae832b1c8388",
            "_dom_classes": [],
            "description": "",
            "_model_name": "HTMLModel",
            "placeholder": "​",
            "_view_module": "@jupyter-widgets/controls",
            "_model_module_version": "1.5.0",
            "value": " 170499072/? [00:21&lt;00:00, 7822899.45it/s]",
            "_view_count": null,
            "_view_module_version": "1.5.0",
            "description_tooltip": null,
            "_model_module": "@jupyter-widgets/controls",
            "layout": "IPY_MODEL_37a9824b4eb74245b4610760421b7172"
          }
        },
        "488ac32edb0a4db2b5e2477872e421eb": {
          "model_module": "@jupyter-widgets/controls",
          "model_name": "ProgressStyleModel",
          "state": {
            "_view_name": "StyleView",
            "_model_name": "ProgressStyleModel",
            "description_width": "initial",
            "_view_module": "@jupyter-widgets/base",
            "_model_module_version": "1.5.0",
            "_view_count": null,
            "_view_module_version": "1.2.0",
            "bar_color": null,
            "_model_module": "@jupyter-widgets/controls"
          }
        },
        "b901de2cdee442e89d0708703607eda7": {
          "model_module": "@jupyter-widgets/base",
          "model_name": "LayoutModel",
          "state": {
            "_view_name": "LayoutView",
            "grid_template_rows": null,
            "right": null,
            "justify_content": null,
            "_view_module": "@jupyter-widgets/base",
            "overflow": null,
            "_model_module_version": "1.2.0",
            "_view_count": null,
            "flex_flow": null,
            "width": null,
            "min_width": null,
            "border": null,
            "align_items": null,
            "bottom": null,
            "_model_module": "@jupyter-widgets/base",
            "top": null,
            "grid_column": null,
            "overflow_y": null,
            "overflow_x": null,
            "grid_auto_flow": null,
            "grid_area": null,
            "grid_template_columns": null,
            "flex": null,
            "_model_name": "LayoutModel",
            "justify_items": null,
            "grid_row": null,
            "max_height": null,
            "align_content": null,
            "visibility": null,
            "align_self": null,
            "height": null,
            "min_height": null,
            "padding": null,
            "grid_auto_rows": null,
            "grid_gap": null,
            "max_width": null,
            "order": null,
            "_view_module_version": "1.2.0",
            "grid_template_areas": null,
            "object_position": null,
            "object_fit": null,
            "grid_auto_columns": null,
            "margin": null,
            "display": null,
            "left": null
          }
        },
        "bf48d05c1611447f8beaae832b1c8388": {
          "model_module": "@jupyter-widgets/controls",
          "model_name": "DescriptionStyleModel",
          "state": {
            "_view_name": "StyleView",
            "_model_name": "DescriptionStyleModel",
            "description_width": "",
            "_view_module": "@jupyter-widgets/base",
            "_model_module_version": "1.5.0",
            "_view_count": null,
            "_view_module_version": "1.2.0",
            "_model_module": "@jupyter-widgets/controls"
          }
        },
        "37a9824b4eb74245b4610760421b7172": {
          "model_module": "@jupyter-widgets/base",
          "model_name": "LayoutModel",
          "state": {
            "_view_name": "LayoutView",
            "grid_template_rows": null,
            "right": null,
            "justify_content": null,
            "_view_module": "@jupyter-widgets/base",
            "overflow": null,
            "_model_module_version": "1.2.0",
            "_view_count": null,
            "flex_flow": null,
            "width": null,
            "min_width": null,
            "border": null,
            "align_items": null,
            "bottom": null,
            "_model_module": "@jupyter-widgets/base",
            "top": null,
            "grid_column": null,
            "overflow_y": null,
            "overflow_x": null,
            "grid_auto_flow": null,
            "grid_area": null,
            "grid_template_columns": null,
            "flex": null,
            "_model_name": "LayoutModel",
            "justify_items": null,
            "grid_row": null,
            "max_height": null,
            "align_content": null,
            "visibility": null,
            "align_self": null,
            "height": null,
            "min_height": null,
            "padding": null,
            "grid_auto_rows": null,
            "grid_gap": null,
            "max_width": null,
            "order": null,
            "_view_module_version": "1.2.0",
            "grid_template_areas": null,
            "object_position": null,
            "object_fit": null,
            "grid_auto_columns": null,
            "margin": null,
            "display": null,
            "left": null
          }
        },
        "ccf4e4bfbfc340f2a820b0ee4816d7ec": {
          "model_module": "@jupyter-widgets/controls",
          "model_name": "HBoxModel",
          "state": {
            "_view_name": "HBoxView",
            "_dom_classes": [],
            "_model_name": "HBoxModel",
            "_view_module": "@jupyter-widgets/controls",
            "_model_module_version": "1.5.0",
            "_view_count": null,
            "_view_module_version": "1.5.0",
            "box_style": "",
            "layout": "IPY_MODEL_07cfe74142e7473d88fc03f6782ec198",
            "_model_module": "@jupyter-widgets/controls",
            "children": [
              "IPY_MODEL_1e78aa1e0466410aa66e9e196c3d3772",
              "IPY_MODEL_5beeb464b8fe4826832636c549043b4b"
            ]
          }
        },
        "07cfe74142e7473d88fc03f6782ec198": {
          "model_module": "@jupyter-widgets/base",
          "model_name": "LayoutModel",
          "state": {
            "_view_name": "LayoutView",
            "grid_template_rows": null,
            "right": null,
            "justify_content": null,
            "_view_module": "@jupyter-widgets/base",
            "overflow": null,
            "_model_module_version": "1.2.0",
            "_view_count": null,
            "flex_flow": null,
            "width": null,
            "min_width": null,
            "border": null,
            "align_items": null,
            "bottom": null,
            "_model_module": "@jupyter-widgets/base",
            "top": null,
            "grid_column": null,
            "overflow_y": null,
            "overflow_x": null,
            "grid_auto_flow": null,
            "grid_area": null,
            "grid_template_columns": null,
            "flex": null,
            "_model_name": "LayoutModel",
            "justify_items": null,
            "grid_row": null,
            "max_height": null,
            "align_content": null,
            "visibility": null,
            "align_self": null,
            "height": null,
            "min_height": null,
            "padding": null,
            "grid_auto_rows": null,
            "grid_gap": null,
            "max_width": null,
            "order": null,
            "_view_module_version": "1.2.0",
            "grid_template_areas": null,
            "object_position": null,
            "object_fit": null,
            "grid_auto_columns": null,
            "margin": null,
            "display": null,
            "left": null
          }
        },
        "1e78aa1e0466410aa66e9e196c3d3772": {
          "model_module": "@jupyter-widgets/controls",
          "model_name": "FloatProgressModel",
          "state": {
            "_view_name": "ProgressView",
            "style": "IPY_MODEL_553fd7e6705849a6b227df1fbbf3f380",
            "_dom_classes": [],
            "description": "100%",
            "_model_name": "FloatProgressModel",
            "bar_style": "success",
            "max": 553433881,
            "_view_module": "@jupyter-widgets/controls",
            "_model_module_version": "1.5.0",
            "value": 553433881,
            "_view_count": null,
            "_view_module_version": "1.5.0",
            "orientation": "horizontal",
            "min": 0,
            "description_tooltip": null,
            "_model_module": "@jupyter-widgets/controls",
            "layout": "IPY_MODEL_7981d75797d345a1a6bb62483a329dc8"
          }
        },
        "5beeb464b8fe4826832636c549043b4b": {
          "model_module": "@jupyter-widgets/controls",
          "model_name": "HTMLModel",
          "state": {
            "_view_name": "HTMLView",
            "style": "IPY_MODEL_c73352521bc34575a67b376f8d3a3f81",
            "_dom_classes": [],
            "description": "",
            "_model_name": "HTMLModel",
            "placeholder": "​",
            "_view_module": "@jupyter-widgets/controls",
            "_model_module_version": "1.5.0",
            "value": " 528M/528M [00:05&lt;00:00, 96.2MB/s]",
            "_view_count": null,
            "_view_module_version": "1.5.0",
            "description_tooltip": null,
            "_model_module": "@jupyter-widgets/controls",
            "layout": "IPY_MODEL_3f175d80b4a0426cbeaf41132ca8f3e7"
          }
        },
        "553fd7e6705849a6b227df1fbbf3f380": {
          "model_module": "@jupyter-widgets/controls",
          "model_name": "ProgressStyleModel",
          "state": {
            "_view_name": "StyleView",
            "_model_name": "ProgressStyleModel",
            "description_width": "initial",
            "_view_module": "@jupyter-widgets/base",
            "_model_module_version": "1.5.0",
            "_view_count": null,
            "_view_module_version": "1.2.0",
            "bar_color": null,
            "_model_module": "@jupyter-widgets/controls"
          }
        },
        "7981d75797d345a1a6bb62483a329dc8": {
          "model_module": "@jupyter-widgets/base",
          "model_name": "LayoutModel",
          "state": {
            "_view_name": "LayoutView",
            "grid_template_rows": null,
            "right": null,
            "justify_content": null,
            "_view_module": "@jupyter-widgets/base",
            "overflow": null,
            "_model_module_version": "1.2.0",
            "_view_count": null,
            "flex_flow": null,
            "width": null,
            "min_width": null,
            "border": null,
            "align_items": null,
            "bottom": null,
            "_model_module": "@jupyter-widgets/base",
            "top": null,
            "grid_column": null,
            "overflow_y": null,
            "overflow_x": null,
            "grid_auto_flow": null,
            "grid_area": null,
            "grid_template_columns": null,
            "flex": null,
            "_model_name": "LayoutModel",
            "justify_items": null,
            "grid_row": null,
            "max_height": null,
            "align_content": null,
            "visibility": null,
            "align_self": null,
            "height": null,
            "min_height": null,
            "padding": null,
            "grid_auto_rows": null,
            "grid_gap": null,
            "max_width": null,
            "order": null,
            "_view_module_version": "1.2.0",
            "grid_template_areas": null,
            "object_position": null,
            "object_fit": null,
            "grid_auto_columns": null,
            "margin": null,
            "display": null,
            "left": null
          }
        },
        "c73352521bc34575a67b376f8d3a3f81": {
          "model_module": "@jupyter-widgets/controls",
          "model_name": "DescriptionStyleModel",
          "state": {
            "_view_name": "StyleView",
            "_model_name": "DescriptionStyleModel",
            "description_width": "",
            "_view_module": "@jupyter-widgets/base",
            "_model_module_version": "1.5.0",
            "_view_count": null,
            "_view_module_version": "1.2.0",
            "_model_module": "@jupyter-widgets/controls"
          }
        },
        "3f175d80b4a0426cbeaf41132ca8f3e7": {
          "model_module": "@jupyter-widgets/base",
          "model_name": "LayoutModel",
          "state": {
            "_view_name": "LayoutView",
            "grid_template_rows": null,
            "right": null,
            "justify_content": null,
            "_view_module": "@jupyter-widgets/base",
            "overflow": null,
            "_model_module_version": "1.2.0",
            "_view_count": null,
            "flex_flow": null,
            "width": null,
            "min_width": null,
            "border": null,
            "align_items": null,
            "bottom": null,
            "_model_module": "@jupyter-widgets/base",
            "top": null,
            "grid_column": null,
            "overflow_y": null,
            "overflow_x": null,
            "grid_auto_flow": null,
            "grid_area": null,
            "grid_template_columns": null,
            "flex": null,
            "_model_name": "LayoutModel",
            "justify_items": null,
            "grid_row": null,
            "max_height": null,
            "align_content": null,
            "visibility": null,
            "align_self": null,
            "height": null,
            "min_height": null,
            "padding": null,
            "grid_auto_rows": null,
            "grid_gap": null,
            "max_width": null,
            "order": null,
            "_view_module_version": "1.2.0",
            "grid_template_areas": null,
            "object_position": null,
            "object_fit": null,
            "grid_auto_columns": null,
            "margin": null,
            "display": null,
            "left": null
          }
        }
      }
    }
  },
  "cells": [
    {
      "cell_type": "markdown",
      "metadata": {
        "id": "view-in-github",
        "colab_type": "text"
      },
      "source": [
        "<a href=\"https://colab.research.google.com/github/martinpius/DEEP-CNN-TRANSFER/blob/main/Tranfer_Learning_(Fine_turning_the_Neural_network).ipynb\" target=\"_parent\"><img src=\"https://colab.research.google.com/assets/colab-badge.svg\" alt=\"Open In Colab\"/></a>"
      ]
    },
    {
      "cell_type": "code",
      "metadata": {
        "colab": {
          "base_uri": "https://localhost:8080/"
        },
        "id": "ei8RMj6CSmfo",
        "outputId": "d2cb0f49-656a-46a7-9cbe-a89cb88eed60"
      },
      "source": [
        "from google.colab import drive\n",
        "drive.mount(\"/content/drive\", force_remount = True)\n",
        "try:\n",
        "  COLAB = True\n",
        "  import torch\n",
        "  print(f\">>>> You are on CoLaB with torch version {torch.__version__}\")\n",
        "except Exception as e:\n",
        "  print(f\">>>> {type(e)}: {e}\\n>>>> please correct {type(e)} and reload your drive\")\n",
        "  COLAB = False\n",
        "def time_fmt(t: float = 123.917)->float:\n",
        "  h = int(t / (60 * 60))\n",
        "  m = int(t % (60 * 60) / 60)\n",
        "  s = int(t % 60)\n",
        "  return f\"hrs: {h} min: {m:>02} sec: {s:05.2f}\"\n",
        "if torch.cuda.is_available():\n",
        "  device = torch.device(\"cuda\")\n",
        "else:\n",
        "  device = torch.device(\"cpu\")\n",
        "print(f\">>>> time formating\\t.......................\\n>>> time elapsed\\t{time_fmt()}\")"
      ],
      "execution_count": 5,
      "outputs": [
        {
          "output_type": "stream",
          "text": [
            "Mounted at /content/drive\n",
            ">>>> You are on CoLaB with torch version 1.8.1+cu101\n",
            ">>>> time formating\t.......................\n",
            ">>> time elapsed\thrs: 0 min: 02 sec: 03.00\n"
          ],
          "name": "stdout"
        }
      ]
    },
    {
      "cell_type": "code",
      "metadata": {
        "id": "nJqFpEUaXPxZ"
      },
      "source": [
        "#In this notebook we are going to perform a transfer learning approach(fine-turning)\n",
        "#The CNN with an application on the CIFAR10 dataset:"
      ],
      "execution_count": 13,
      "outputs": []
    },
    {
      "cell_type": "code",
      "metadata": {
        "id": "tMifWGjoXwWv"
      },
      "source": [
        "import torch\n",
        "import torch.nn as nn\n",
        "import torch.optim as optim\n",
        "import torchvision.datasets as datasets\n",
        "import torchvision.transforms as transforms\n",
        "from torch.utils.data import DataLoader\n",
        "from torch.utils.tensorboard import SummaryWriter\n",
        "from tqdm import tqdm\n",
        "import time, sys, datetime\n",
        "import torchvision"
      ],
      "execution_count": 6,
      "outputs": []
    },
    {
      "cell_type": "code",
      "metadata": {
        "id": "OeiV7gVNYU_L"
      },
      "source": [
        "#We first train a simple CNN on CIFAR10 dataset then finally we fine-turning using\n",
        "#pre-trained models such as inception-v3/vgg16 ect"
      ],
      "execution_count": 7,
      "outputs": []
    },
    {
      "cell_type": "code",
      "metadata": {
        "id": "P_sOaxGqYwAm"
      },
      "source": [
        "#Hyperparameters and other features\n",
        "EPOCHS = 2\n",
        "batch_size = 128\n",
        "learning_rate = 1e-3\n",
        "num_classes = 10\n",
        "in_channels = 3\n"
      ],
      "execution_count": 22,
      "outputs": []
    },
    {
      "cell_type": "code",
      "metadata": {
        "id": "j1GV2J8gYrhj"
      },
      "source": [
        "class SimpleCNN(nn.Module):\n",
        "  def __init__(self, in_channels, num_classes):\n",
        "    super(SimpleCNN, self).__init__()\n",
        "    self.layer1 = nn.Conv2d(in_channels = in_channels, \n",
        "                            out_channels = 8,\n",
        "                            kernel_size = (3,3),\n",
        "                            padding = (1,1),\n",
        "                            stride = (1,1))\n",
        "    self.relu = nn.ReLU()\n",
        "    self.maxpool = nn.MaxPool2d(kernel_size = (2,2), stride = (2,2))\n",
        "    self.layer2 = nn.Conv2d(in_channels = 8, \n",
        "                            out_channels = 16,\n",
        "                            kernel_size = (3,3),\n",
        "                            stride = (1,1),\n",
        "                            padding = (1,1))\n",
        "    self.bn = nn.BatchNorm2d(num_features = 8)\n",
        "    self.fc1 = nn.Linear(in_features = 8*8*16, out_features = 512)\n",
        "    self.drp = nn.Dropout(p = 0.5)\n",
        "    self.fc2 = nn.Linear(in_features = 512, out_features = 128)\n",
        "    self.softmax = nn.Softmax()\n",
        "    self.outputs = nn.Linear(in_features = 128, out_features = num_classes)\n",
        "  \n",
        "  def forward(self, input_tensor):\n",
        "    x = self.relu(self.layer1(input_tensor))\n",
        "    x = self.maxpool(x)\n",
        "    x = self.bn(x)\n",
        "    x = self.relu(self.layer2(x))\n",
        "    x = self.maxpool(x)\n",
        "    x = x.reshape(x.shape[0], -1)\n",
        "    x = self.relu(self.fc1(x))\n",
        "    x = self.drp(x)\n",
        "    x = self.relu(self.fc2(x))\n",
        "    x = self.softmax(self.outputs(x))\n",
        "    return x"
      ],
      "execution_count": 9,
      "outputs": []
    },
    {
      "cell_type": "code",
      "metadata": {
        "colab": {
          "base_uri": "https://localhost:8080/"
        },
        "id": "5tx9ntfkcL0s",
        "outputId": "df464fb1-8ae1-4026-b827-725e467db43a"
      },
      "source": [
        "#Instantiating the model class and testing on a random data.\n",
        "rnd_data = torch.randn(size = (64, 3, 32, 32)).to(device = device)\n",
        "model = SimpleCNN(in_channels = in_channels, num_classes = num_classes).to(device = device)\n",
        "print(f\">>>> The desired output shape is: {model(rnd_data).shape}\")\n",
        "print(model)"
      ],
      "execution_count": 10,
      "outputs": [
        {
          "output_type": "stream",
          "text": [
            ">>>> The desired output shape is: torch.Size([64, 10])\n",
            "SimpleCNN(\n",
            "  (layer1): Conv2d(3, 8, kernel_size=(3, 3), stride=(1, 1), padding=(1, 1))\n",
            "  (relu): ReLU()\n",
            "  (maxpool): MaxPool2d(kernel_size=(2, 2), stride=(2, 2), padding=0, dilation=1, ceil_mode=False)\n",
            "  (layer2): Conv2d(8, 16, kernel_size=(3, 3), stride=(1, 1), padding=(1, 1))\n",
            "  (bn): BatchNorm2d(8, eps=1e-05, momentum=0.1, affine=True, track_running_stats=True)\n",
            "  (fc1): Linear(in_features=1024, out_features=512, bias=True)\n",
            "  (drp): Dropout(p=0.5, inplace=False)\n",
            "  (fc2): Linear(in_features=512, out_features=128, bias=True)\n",
            "  (softmax): Softmax(dim=None)\n",
            "  (outputs): Linear(in_features=128, out_features=10, bias=True)\n",
            ")\n"
          ],
          "name": "stdout"
        },
        {
          "output_type": "stream",
          "text": [
            "/usr/local/lib/python3.7/dist-packages/ipykernel_launcher.py:33: UserWarning: Implicit dimension choice for softmax has been deprecated. Change the call to include dim=X as an argument.\n"
          ],
          "name": "stderr"
        }
      ]
    },
    {
      "cell_type": "code",
      "metadata": {
        "id": "yFA343kmc_dZ"
      },
      "source": [
        "#Import the data from torch-vission and preproocess using transform and Dataloader methods:"
      ],
      "execution_count": 11,
      "outputs": []
    },
    {
      "cell_type": "code",
      "metadata": {
        "colab": {
          "base_uri": "https://localhost:8080/",
          "height": 200,
          "referenced_widgets": [
            "4adf9d1bf1db4fa997d7d180d42715d8",
            "6936394299624c219259996555a18852",
            "ffdeb48bae114014ba4326b06d250862",
            "7e49a2dec3fd49b4ad30a87bf0ce6c23",
            "8cfddd3e5b144ca4b618d8190f7b9788",
            "5e9c5e05b6324b4c8aed5733d7d610b2",
            "80f705b43b0848be9d4f713f706db87d",
            "639fa5b3f92d4a53a662e8a7d9fdee8a",
            "4500f27c15414fce801b4ea3b4cc4836",
            "ebdf4490f9d44ff999229d2a31c47d17",
            "294879ef4e024f609334864c05411baa",
            "0cd16aa8c5534b589a0eb7485699bfed",
            "488ac32edb0a4db2b5e2477872e421eb",
            "b901de2cdee442e89d0708703607eda7",
            "bf48d05c1611447f8beaae832b1c8388",
            "37a9824b4eb74245b4610760421b7172"
          ]
        },
        "id": "_XGHyA0OdhQ9",
        "outputId": "37731a0d-2289-42da-fa71-c32744088836"
      },
      "source": [
        "train_dfm = datasets.CIFAR10(root = \"train_cifar10/\", train = True, transform = transforms.ToTensor(), download = True)\n",
        "test_dfm = datasets.CIFAR10(root = \"test_cifar10/\", train = False, transform = transforms.ToTensor(), download = True)\n",
        "train_loader = DataLoader(dataset = train_dfm, shuffle = True, batch_size = batch_size)\n",
        "test_loader = DataLoader(dataset = test_dfm, shuffle = False, batch_size = batch_size)\n",
        "x_train_batch, y_train_batch = next(iter(train_loader))\n",
        "print(f\">>>> x_train_batch_shape: {x_train_batch.shape}\\ty_train_batch_shape: {y_train_batch.shape}\")\n"
      ],
      "execution_count": 12,
      "outputs": [
        {
          "output_type": "stream",
          "text": [
            "Downloading https://www.cs.toronto.edu/~kriz/cifar-10-python.tar.gz to train_cifar10/cifar-10-python.tar.gz\n"
          ],
          "name": "stdout"
        },
        {
          "output_type": "display_data",
          "data": {
            "application/vnd.jupyter.widget-view+json": {
              "model_id": "4adf9d1bf1db4fa997d7d180d42715d8",
              "version_minor": 0,
              "version_major": 2
            },
            "text/plain": [
              "HBox(children=(FloatProgress(value=0.0, max=170498071.0), HTML(value='')))"
            ]
          },
          "metadata": {
            "tags": []
          }
        },
        {
          "output_type": "stream",
          "text": [
            "\n",
            "Extracting train_cifar10/cifar-10-python.tar.gz to train_cifar10/\n",
            "Downloading https://www.cs.toronto.edu/~kriz/cifar-10-python.tar.gz to test_cifar10/cifar-10-python.tar.gz\n"
          ],
          "name": "stdout"
        },
        {
          "output_type": "display_data",
          "data": {
            "application/vnd.jupyter.widget-view+json": {
              "model_id": "4500f27c15414fce801b4ea3b4cc4836",
              "version_minor": 0,
              "version_major": 2
            },
            "text/plain": [
              "HBox(children=(FloatProgress(value=0.0, max=170498071.0), HTML(value='')))"
            ]
          },
          "metadata": {
            "tags": []
          }
        },
        {
          "output_type": "stream",
          "text": [
            "\n",
            "Extracting test_cifar10/cifar-10-python.tar.gz to test_cifar10/\n",
            ">>>> x_train_batch_shape: torch.Size([128, 3, 32, 32])\ty_train_batch_shape: torch.Size([128])\n"
          ],
          "name": "stdout"
        }
      ]
    },
    {
      "cell_type": "code",
      "metadata": {
        "id": "4crbRjeHerDM"
      },
      "source": [
        "#get the loss and optimizer objects\n",
        "loss_obj = nn.CrossEntropyLoss()\n",
        "optimizer = optim.Adam(params = model.parameters(), lr = learning_rate)"
      ],
      "execution_count": 13,
      "outputs": []
    },
    {
      "cell_type": "code",
      "metadata": {
        "colab": {
          "base_uri": "https://localhost:8080/"
        },
        "id": "M98FDVNrjlOF",
        "outputId": "d5a82f1f-c986-463a-86f4-525b71328b84"
      },
      "source": [
        "#Training loop:\n",
        "tic = time.time()\n",
        "for epoch in range(EPOCHS):\n",
        "  losses = []\n",
        "  print(f\"\\n>>>> training starts for epoch {epoch + 1}\\n>>>> please wait while the model is training....................\")\n",
        "  for idx, (data, target) in enumerate(tqdm(train_loader)):\n",
        "    data = data.to(device = device)\n",
        "    target = target.to(device = device)\n",
        "    preds = model(data)\n",
        "    train_loss = loss_obj(preds, target)\n",
        "    optimizer.zero_grad()\n",
        "    train_loss.backward()\n",
        "    optimizer.step()\n",
        "    losses.append(train_loss.item())\n",
        "  mean_loss = float(sum(losses)/len(losses))\n",
        "  print(f\"\\n>>>> the average training loss: {mean_loss:.4f}\")\n",
        "\n",
        "def __monitor__(loader, model):\n",
        "  if loader.dataset.train:\n",
        "    print(f\"\\n>>>> monitor the performance over the training dataset\\n>>>> please wait................\")\n",
        "  else:\n",
        "    print(f\"\\n>>>> monitor the performance over the test dataset\\n>>>> please wait...................\")\n",
        "  num_correct = 0\n",
        "  num_examples = 0\n",
        "  model.eval()\n",
        "  with torch.no_grad():\n",
        "    for idx, (x, y) in enumerate(tqdm(test_loader)):\n",
        "      x = x.to(device = device)\n",
        "      y = y.to(device = device)\n",
        "      preds = model(x)\n",
        "      _, predictions = preds.max(1)\n",
        "      num_correct+=(predictions == y).sum()\n",
        "      num_examples+= predictions.size(0)\n",
        "      acc = float((num_correct/num_examples) * 100)\n",
        "  return acc\n",
        "  model.train()\n",
        "\n",
        "print(f\"\\n>>>> accuracy over the training data: {__monitor__(train_loader, model)}\")\n",
        "print(f\"\\n>>>> accuracy over the validation data: {__monitor__(test_loader, model)}\")\n",
        "toc = time.time()\n",
        "print(f\"\\n>>>> for the simple CNN time elapsed is: {time_fmt(toc - tic)}\")\n"
      ],
      "execution_count": 22,
      "outputs": [
        {
          "output_type": "stream",
          "text": [
            "  0%|          | 0/391 [00:00<?, ?it/s]/usr/local/lib/python3.7/dist-packages/ipykernel_launcher.py:33: UserWarning: Implicit dimension choice for softmax has been deprecated. Change the call to include dim=X as an argument.\n",
            "  1%|          | 4/391 [00:00<00:11, 33.50it/s]"
          ],
          "name": "stderr"
        },
        {
          "output_type": "stream",
          "text": [
            "\n",
            ">>>> training starts for epoch 1\n",
            ">>>> please wait while the model is training....................\n"
          ],
          "name": "stdout"
        },
        {
          "output_type": "stream",
          "text": [
            "100%|██████████| 391/391 [00:11<00:00, 34.44it/s]\n",
            "  1%|          | 4/391 [00:00<00:10, 35.77it/s]"
          ],
          "name": "stderr"
        },
        {
          "output_type": "stream",
          "text": [
            "\n",
            ">>>> the average training loss: 2.0766\n",
            "\n",
            ">>>> training starts for epoch 2\n",
            ">>>> please wait while the model is training....................\n"
          ],
          "name": "stdout"
        },
        {
          "output_type": "stream",
          "text": [
            "100%|██████████| 391/391 [00:11<00:00, 34.61it/s]\n",
            "  1%|          | 4/391 [00:00<00:12, 32.21it/s]"
          ],
          "name": "stderr"
        },
        {
          "output_type": "stream",
          "text": [
            "\n",
            ">>>> the average training loss: 1.9814\n",
            "\n",
            ">>>> training starts for epoch 3\n",
            ">>>> please wait while the model is training....................\n"
          ],
          "name": "stdout"
        },
        {
          "output_type": "stream",
          "text": [
            "100%|██████████| 391/391 [00:11<00:00, 34.69it/s]\n",
            "  1%|          | 4/391 [00:00<00:11, 34.77it/s]"
          ],
          "name": "stderr"
        },
        {
          "output_type": "stream",
          "text": [
            "\n",
            ">>>> the average training loss: 1.9419\n",
            "\n",
            ">>>> training starts for epoch 4\n",
            ">>>> please wait while the model is training....................\n"
          ],
          "name": "stdout"
        },
        {
          "output_type": "stream",
          "text": [
            "100%|██████████| 391/391 [00:11<00:00, 34.59it/s]\n",
            "  1%|          | 4/391 [00:00<00:11, 33.33it/s]"
          ],
          "name": "stderr"
        },
        {
          "output_type": "stream",
          "text": [
            "\n",
            ">>>> the average training loss: 1.9132\n",
            "\n",
            ">>>> training starts for epoch 5\n",
            ">>>> please wait while the model is training....................\n"
          ],
          "name": "stdout"
        },
        {
          "output_type": "stream",
          "text": [
            "100%|██████████| 391/391 [00:11<00:00, 34.67it/s]\n",
            "  1%|          | 4/391 [00:00<00:11, 34.38it/s]"
          ],
          "name": "stderr"
        },
        {
          "output_type": "stream",
          "text": [
            "\n",
            ">>>> the average training loss: 1.8932\n",
            "\n",
            ">>>> training starts for epoch 6\n",
            ">>>> please wait while the model is training....................\n"
          ],
          "name": "stdout"
        },
        {
          "output_type": "stream",
          "text": [
            "100%|██████████| 391/391 [00:11<00:00, 34.59it/s]\n",
            "  1%|          | 4/391 [00:00<00:11, 34.66it/s]"
          ],
          "name": "stderr"
        },
        {
          "output_type": "stream",
          "text": [
            "\n",
            ">>>> the average training loss: 1.8738\n",
            "\n",
            ">>>> training starts for epoch 7\n",
            ">>>> please wait while the model is training....................\n"
          ],
          "name": "stdout"
        },
        {
          "output_type": "stream",
          "text": [
            "100%|██████████| 391/391 [00:11<00:00, 34.68it/s]\n",
            "  1%|          | 4/391 [00:00<00:10, 35.45it/s]"
          ],
          "name": "stderr"
        },
        {
          "output_type": "stream",
          "text": [
            "\n",
            ">>>> the average training loss: 1.8587\n",
            "\n",
            ">>>> training starts for epoch 8\n",
            ">>>> please wait while the model is training....................\n"
          ],
          "name": "stdout"
        },
        {
          "output_type": "stream",
          "text": [
            "100%|██████████| 391/391 [00:11<00:00, 34.77it/s]\n",
            "  1%|          | 4/391 [00:00<00:11, 35.04it/s]"
          ],
          "name": "stderr"
        },
        {
          "output_type": "stream",
          "text": [
            "\n",
            ">>>> the average training loss: 1.8468\n",
            "\n",
            ">>>> training starts for epoch 9\n",
            ">>>> please wait while the model is training....................\n"
          ],
          "name": "stdout"
        },
        {
          "output_type": "stream",
          "text": [
            "100%|██████████| 391/391 [00:11<00:00, 34.70it/s]\n",
            "  1%|          | 4/391 [00:00<00:11, 33.22it/s]"
          ],
          "name": "stderr"
        },
        {
          "output_type": "stream",
          "text": [
            "\n",
            ">>>> the average training loss: 1.8422\n",
            "\n",
            ">>>> training starts for epoch 10\n",
            ">>>> please wait while the model is training....................\n"
          ],
          "name": "stdout"
        },
        {
          "output_type": "stream",
          "text": [
            "100%|██████████| 391/391 [00:11<00:00, 34.67it/s]\n",
            "  6%|▋         | 5/79 [00:00<00:01, 48.35it/s]"
          ],
          "name": "stderr"
        },
        {
          "output_type": "stream",
          "text": [
            "\n",
            ">>>> the average training loss: 1.8312\n",
            "\n",
            ">>>> monitor the performance over the training dataset\n",
            ">>>> please wait................\n"
          ],
          "name": "stdout"
        },
        {
          "output_type": "stream",
          "text": [
            "100%|██████████| 79/79 [00:01<00:00, 48.55it/s]\n",
            "  6%|▋         | 5/79 [00:00<00:01, 48.96it/s]"
          ],
          "name": "stderr"
        },
        {
          "output_type": "stream",
          "text": [
            "\n",
            ">>>> accuracy over the training data: 60.0099983215332\n",
            "\n",
            ">>>> monitor the performance over the test dataset\n",
            ">>>> please wait...................\n"
          ],
          "name": "stdout"
        },
        {
          "output_type": "stream",
          "text": [
            "100%|██████████| 79/79 [00:01<00:00, 49.74it/s]"
          ],
          "name": "stderr"
        },
        {
          "output_type": "stream",
          "text": [
            "\n",
            ">>>> accuracy over the validation data: 60.0099983215332\n",
            "\n",
            ">>>> for the simple CNN time elapsed is: hrs: 0 min: 01 sec: 56.00\n"
          ],
          "name": "stdout"
        },
        {
          "output_type": "stream",
          "text": [
            "\n"
          ],
          "name": "stderr"
        }
      ]
    },
    {
      "cell_type": "code",
      "metadata": {
        "id": "7AB-dtt1tSd3"
      },
      "source": [
        "#####Model Turning using tranfer learning technique######"
      ],
      "execution_count": 23,
      "outputs": []
    },
    {
      "cell_type": "code",
      "metadata": {
        "colab": {
          "base_uri": "https://localhost:8080/",
          "height": 83,
          "referenced_widgets": [
            "ccf4e4bfbfc340f2a820b0ee4816d7ec",
            "07cfe74142e7473d88fc03f6782ec198",
            "1e78aa1e0466410aa66e9e196c3d3772",
            "5beeb464b8fe4826832636c549043b4b",
            "553fd7e6705849a6b227df1fbbf3f380",
            "7981d75797d345a1a6bb62483a329dc8",
            "c73352521bc34575a67b376f8d3a3f81",
            "3f175d80b4a0426cbeaf41132ca8f3e7"
          ]
        },
        "id": "xx10XxJjta-i",
        "outputId": "e62d9cd8-4d33-4c5d-f140-a46a65aa8b22"
      },
      "source": [
        "model_turned = torchvision.models.vgg16(pretrained = True)"
      ],
      "execution_count": 14,
      "outputs": [
        {
          "output_type": "stream",
          "text": [
            "Downloading: \"https://download.pytorch.org/models/vgg16-397923af.pth\" to /root/.cache/torch/hub/checkpoints/vgg16-397923af.pth\n"
          ],
          "name": "stderr"
        },
        {
          "output_type": "display_data",
          "data": {
            "application/vnd.jupyter.widget-view+json": {
              "model_id": "ccf4e4bfbfc340f2a820b0ee4816d7ec",
              "version_minor": 0,
              "version_major": 2
            },
            "text/plain": [
              "HBox(children=(FloatProgress(value=0.0, max=553433881.0), HTML(value='')))"
            ]
          },
          "metadata": {
            "tags": []
          }
        },
        {
          "output_type": "stream",
          "text": [
            "\n"
          ],
          "name": "stdout"
        }
      ]
    },
    {
      "cell_type": "code",
      "metadata": {
        "colab": {
          "base_uri": "https://localhost:8080/"
        },
        "id": "MAeb4J4BtzXK",
        "outputId": "88d21b35-8aed-4ae1-8206-e7b45537334e"
      },
      "source": [
        "print(model_turned)"
      ],
      "execution_count": 15,
      "outputs": [
        {
          "output_type": "stream",
          "text": [
            "VGG(\n",
            "  (features): Sequential(\n",
            "    (0): Conv2d(3, 64, kernel_size=(3, 3), stride=(1, 1), padding=(1, 1))\n",
            "    (1): ReLU(inplace=True)\n",
            "    (2): Conv2d(64, 64, kernel_size=(3, 3), stride=(1, 1), padding=(1, 1))\n",
            "    (3): ReLU(inplace=True)\n",
            "    (4): MaxPool2d(kernel_size=2, stride=2, padding=0, dilation=1, ceil_mode=False)\n",
            "    (5): Conv2d(64, 128, kernel_size=(3, 3), stride=(1, 1), padding=(1, 1))\n",
            "    (6): ReLU(inplace=True)\n",
            "    (7): Conv2d(128, 128, kernel_size=(3, 3), stride=(1, 1), padding=(1, 1))\n",
            "    (8): ReLU(inplace=True)\n",
            "    (9): MaxPool2d(kernel_size=2, stride=2, padding=0, dilation=1, ceil_mode=False)\n",
            "    (10): Conv2d(128, 256, kernel_size=(3, 3), stride=(1, 1), padding=(1, 1))\n",
            "    (11): ReLU(inplace=True)\n",
            "    (12): Conv2d(256, 256, kernel_size=(3, 3), stride=(1, 1), padding=(1, 1))\n",
            "    (13): ReLU(inplace=True)\n",
            "    (14): Conv2d(256, 256, kernel_size=(3, 3), stride=(1, 1), padding=(1, 1))\n",
            "    (15): ReLU(inplace=True)\n",
            "    (16): MaxPool2d(kernel_size=2, stride=2, padding=0, dilation=1, ceil_mode=False)\n",
            "    (17): Conv2d(256, 512, kernel_size=(3, 3), stride=(1, 1), padding=(1, 1))\n",
            "    (18): ReLU(inplace=True)\n",
            "    (19): Conv2d(512, 512, kernel_size=(3, 3), stride=(1, 1), padding=(1, 1))\n",
            "    (20): ReLU(inplace=True)\n",
            "    (21): Conv2d(512, 512, kernel_size=(3, 3), stride=(1, 1), padding=(1, 1))\n",
            "    (22): ReLU(inplace=True)\n",
            "    (23): MaxPool2d(kernel_size=2, stride=2, padding=0, dilation=1, ceil_mode=False)\n",
            "    (24): Conv2d(512, 512, kernel_size=(3, 3), stride=(1, 1), padding=(1, 1))\n",
            "    (25): ReLU(inplace=True)\n",
            "    (26): Conv2d(512, 512, kernel_size=(3, 3), stride=(1, 1), padding=(1, 1))\n",
            "    (27): ReLU(inplace=True)\n",
            "    (28): Conv2d(512, 512, kernel_size=(3, 3), stride=(1, 1), padding=(1, 1))\n",
            "    (29): ReLU(inplace=True)\n",
            "    (30): MaxPool2d(kernel_size=2, stride=2, padding=0, dilation=1, ceil_mode=False)\n",
            "  )\n",
            "  (avgpool): AdaptiveAvgPool2d(output_size=(7, 7))\n",
            "  (classifier): Sequential(\n",
            "    (0): Linear(in_features=25088, out_features=4096, bias=True)\n",
            "    (1): ReLU(inplace=True)\n",
            "    (2): Dropout(p=0.5, inplace=False)\n",
            "    (3): Linear(in_features=4096, out_features=4096, bias=True)\n",
            "    (4): ReLU(inplace=True)\n",
            "    (5): Dropout(p=0.5, inplace=False)\n",
            "    (6): Linear(in_features=4096, out_features=1000, bias=True)\n",
            "  )\n",
            ")\n"
          ],
          "name": "stdout"
        }
      ]
    },
    {
      "cell_type": "code",
      "metadata": {
        "id": "KgGn9gw6uBu1"
      },
      "source": [
        "#Modify the model to suit our need: We change number of classes from 100 to 10 and we also\n",
        "#remove the average pool layer:\n"
      ],
      "execution_count": 16,
      "outputs": []
    },
    {
      "cell_type": "code",
      "metadata": {
        "id": "3cOUsT8WuSmC"
      },
      "source": [
        "class AVG_Removal(nn.Module):\n",
        "  def __init__(self):\n",
        "    super(AVG_Removal, self).__init__()\n",
        "  \n",
        "  def forward(self, input_tensor):\n",
        "    return input_tensor"
      ],
      "execution_count": 23,
      "outputs": []
    },
    {
      "cell_type": "code",
      "metadata": {
        "id": "kDXDeE5vusl6"
      },
      "source": [
        "model_turned.avgpool = AVG_Removal() #Applying the identity class to remove the average pool layer\n"
      ],
      "execution_count": 24,
      "outputs": []
    },
    {
      "cell_type": "code",
      "metadata": {
        "id": "QGySSxj5uztz"
      },
      "source": [
        "#Modify the classifier to have 10 classes to suit our demand\n",
        "model_turned.classifier = nn.Linear(512, 10)"
      ],
      "execution_count": 25,
      "outputs": []
    },
    {
      "cell_type": "code",
      "metadata": {
        "colab": {
          "base_uri": "https://localhost:8080/"
        },
        "id": "gvjHe5vfv0VW",
        "outputId": "760dc6ce-2dec-4d23-cf25-145f5929e409"
      },
      "source": [
        "#print the model to see if the changes were correctly made\n",
        "model_turned = model_turned.to(device = device)\n",
        "print(model_turned)"
      ],
      "execution_count": 26,
      "outputs": [
        {
          "output_type": "stream",
          "text": [
            "VGG(\n",
            "  (features): Sequential(\n",
            "    (0): Conv2d(3, 64, kernel_size=(3, 3), stride=(1, 1), padding=(1, 1))\n",
            "    (1): ReLU(inplace=True)\n",
            "    (2): Conv2d(64, 64, kernel_size=(3, 3), stride=(1, 1), padding=(1, 1))\n",
            "    (3): ReLU(inplace=True)\n",
            "    (4): MaxPool2d(kernel_size=2, stride=2, padding=0, dilation=1, ceil_mode=False)\n",
            "    (5): Conv2d(64, 128, kernel_size=(3, 3), stride=(1, 1), padding=(1, 1))\n",
            "    (6): ReLU(inplace=True)\n",
            "    (7): Conv2d(128, 128, kernel_size=(3, 3), stride=(1, 1), padding=(1, 1))\n",
            "    (8): ReLU(inplace=True)\n",
            "    (9): MaxPool2d(kernel_size=2, stride=2, padding=0, dilation=1, ceil_mode=False)\n",
            "    (10): Conv2d(128, 256, kernel_size=(3, 3), stride=(1, 1), padding=(1, 1))\n",
            "    (11): ReLU(inplace=True)\n",
            "    (12): Conv2d(256, 256, kernel_size=(3, 3), stride=(1, 1), padding=(1, 1))\n",
            "    (13): ReLU(inplace=True)\n",
            "    (14): Conv2d(256, 256, kernel_size=(3, 3), stride=(1, 1), padding=(1, 1))\n",
            "    (15): ReLU(inplace=True)\n",
            "    (16): MaxPool2d(kernel_size=2, stride=2, padding=0, dilation=1, ceil_mode=False)\n",
            "    (17): Conv2d(256, 512, kernel_size=(3, 3), stride=(1, 1), padding=(1, 1))\n",
            "    (18): ReLU(inplace=True)\n",
            "    (19): Conv2d(512, 512, kernel_size=(3, 3), stride=(1, 1), padding=(1, 1))\n",
            "    (20): ReLU(inplace=True)\n",
            "    (21): Conv2d(512, 512, kernel_size=(3, 3), stride=(1, 1), padding=(1, 1))\n",
            "    (22): ReLU(inplace=True)\n",
            "    (23): MaxPool2d(kernel_size=2, stride=2, padding=0, dilation=1, ceil_mode=False)\n",
            "    (24): Conv2d(512, 512, kernel_size=(3, 3), stride=(1, 1), padding=(1, 1))\n",
            "    (25): ReLU(inplace=True)\n",
            "    (26): Conv2d(512, 512, kernel_size=(3, 3), stride=(1, 1), padding=(1, 1))\n",
            "    (27): ReLU(inplace=True)\n",
            "    (28): Conv2d(512, 512, kernel_size=(3, 3), stride=(1, 1), padding=(1, 1))\n",
            "    (29): ReLU(inplace=True)\n",
            "    (30): MaxPool2d(kernel_size=2, stride=2, padding=0, dilation=1, ceil_mode=False)\n",
            "  )\n",
            "  (avgpool): AVG_Removal()\n",
            "  (classifier): Linear(in_features=512, out_features=10, bias=True)\n",
            ")\n"
          ],
          "name": "stdout"
        }
      ]
    },
    {
      "cell_type": "code",
      "metadata": {
        "colab": {
          "base_uri": "https://localhost:8080/"
        },
        "id": "GeF_yl0qwIH8",
        "outputId": "f2ba0dc6-e11e-4bce-f51c-c90dd3bfcd8c"
      },
      "source": [
        "#Training loop:\n",
        "tic = time.time()\n",
        "for epoch in range(EPOCHS):\n",
        "  losses = []\n",
        "  print(f\"\\n>>>> training starts for epoch {epoch + 1}\\n>>>> please wait while the model is training....................\")\n",
        "  for idx, (data, target) in enumerate(tqdm(train_loader)):\n",
        "    data = data.to(device = device)\n",
        "    target = target.to(device = device)\n",
        "    preds = model_turned(data)\n",
        "    train_loss = loss_obj(preds, target)\n",
        "    optimizer.zero_grad()\n",
        "    train_loss.backward()\n",
        "    optimizer.step()\n",
        "    losses.append(train_loss.item())\n",
        "  mean_loss = float(sum(losses)/len(losses))\n",
        "  print(f\"\\n>>>> the average training loss: {mean_loss:.4f}\")\n",
        "\n",
        "def __monitor__(loader, model):\n",
        "  if loader.dataset.train:\n",
        "    print(f\"\\n>>>> monitor the performance over the training dataset\\n>>>> please wait................\")\n",
        "  else:\n",
        "    print(f\"\\n>>>> monitor the performance over the test dataset\\n>>>> please wait...................\")\n",
        "  num_correct = 0\n",
        "  num_examples = 0\n",
        "  model.eval()\n",
        "  with torch.no_grad():\n",
        "    for idx, (x, y) in enumerate(tqdm(test_loader)):\n",
        "      x = x.to(device = device)\n",
        "      y = y.to(device = device)\n",
        "      preds = model(x)\n",
        "      _, predictions = preds.max(1)\n",
        "      num_correct+=(predictions == y).sum()\n",
        "      num_examples+= predictions.size(0)\n",
        "      acc = float((num_correct/num_examples) * 100)\n",
        "  return acc\n",
        "  model.train()\n",
        "\n",
        "print(f\"\\n>>>> accuracy over the training data: {__monitor__(train_loader, model)}\")\n",
        "print(f\"\\n>>>> accuracy over the validation data: {__monitor__(test_loader, model)}\")\n",
        "toc = time.time()\n",
        "print(f\"\\n>>>> for the turned model time elapsed is: {time_fmt(toc - tic)}\")"
      ],
      "execution_count": 27,
      "outputs": [
        {
          "output_type": "stream",
          "text": [
            "\r  0%|          | 0/391 [00:00<?, ?it/s]"
          ],
          "name": "stderr"
        },
        {
          "output_type": "stream",
          "text": [
            "\n",
            ">>>> training starts for epoch 1\n",
            ">>>> please wait while the model is training....................\n"
          ],
          "name": "stdout"
        },
        {
          "output_type": "stream",
          "text": [
            "100%|██████████| 391/391 [02:57<00:00,  2.20it/s]\n",
            "  0%|          | 0/391 [00:00<?, ?it/s]"
          ],
          "name": "stderr"
        },
        {
          "output_type": "stream",
          "text": [
            "\n",
            ">>>> the average training loss: 2.4273\n",
            "\n",
            ">>>> training starts for epoch 2\n",
            ">>>> please wait while the model is training....................\n"
          ],
          "name": "stdout"
        },
        {
          "output_type": "stream",
          "text": [
            "100%|██████████| 391/391 [02:53<00:00,  2.25it/s]\n",
            "  0%|          | 0/79 [00:00<?, ?it/s]/usr/local/lib/python3.7/dist-packages/ipykernel_launcher.py:33: UserWarning: Implicit dimension choice for softmax has been deprecated. Change the call to include dim=X as an argument.\n",
            "  8%|▊         | 6/79 [00:00<00:01, 52.97it/s]"
          ],
          "name": "stderr"
        },
        {
          "output_type": "stream",
          "text": [
            "\n",
            ">>>> the average training loss: 2.4273\n",
            "\n",
            ">>>> monitor the performance over the training dataset\n",
            ">>>> please wait................\n"
          ],
          "name": "stdout"
        },
        {
          "output_type": "stream",
          "text": [
            "100%|██████████| 79/79 [00:01<00:00, 51.12it/s]\n",
            "  8%|▊         | 6/79 [00:00<00:01, 53.18it/s]"
          ],
          "name": "stderr"
        },
        {
          "output_type": "stream",
          "text": [
            "\n",
            ">>>> accuracy over the training data: 10.84999942779541\n",
            "\n",
            ">>>> monitor the performance over the test dataset\n",
            ">>>> please wait...................\n"
          ],
          "name": "stdout"
        },
        {
          "output_type": "stream",
          "text": [
            "100%|██████████| 79/79 [00:01<00:00, 50.00it/s]"
          ],
          "name": "stderr"
        },
        {
          "output_type": "stream",
          "text": [
            "\n",
            ">>>> accuracy over the validation data: 10.84999942779541\n",
            "\n",
            ">>>> for the turned model time elapsed is: hrs: 0 min: 05 sec: 54.00\n"
          ],
          "name": "stdout"
        },
        {
          "output_type": "stream",
          "text": [
            "\n"
          ],
          "name": "stderr"
        }
      ]
    },
    {
      "cell_type": "code",
      "metadata": {
        "id": "SYB2SttJ6Z5l"
      },
      "source": [
        ""
      ],
      "execution_count": null,
      "outputs": []
    }
  ]
}